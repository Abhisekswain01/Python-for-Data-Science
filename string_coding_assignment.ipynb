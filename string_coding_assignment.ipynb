{
  "nbformat": 4,
  "nbformat_minor": 0,
  "metadata": {
    "colab": {
      "provenance": [],
      "authorship_tag": "ABX9TyNzar4Ni4jhglljGmQBGkjY",
      "include_colab_link": true
    },
    "kernelspec": {
      "name": "python3",
      "display_name": "Python 3"
    },
    "language_info": {
      "name": "python"
    }
  },
  "cells": [
    {
      "cell_type": "markdown",
      "metadata": {
        "id": "view-in-github",
        "colab_type": "text"
      },
      "source": [
        "<a href=\"https://colab.research.google.com/github/Abhisekswain01/Python-for-Data-Science/blob/main/string_coding_assignment.ipynb\" target=\"_parent\"><img src=\"https://colab.research.google.com/assets/colab-badge.svg\" alt=\"Open In Colab\"/></a>"
      ]
    },
    {
      "cell_type": "markdown",
      "source": [
        "# ***Write a Python program to remove the nth index character from a nonempty string.***\n",
        "\n"
      ],
      "metadata": {
        "id": "kvf6x0DwTqMv"
      }
    },
    {
      "cell_type": "code",
      "execution_count": 4,
      "metadata": {
        "colab": {
          "base_uri": "https://localhost:8080/"
        },
        "id": "bQs582VITd2F",
        "outputId": "760120cc-e55c-4d4b-e370-b0ba5807e2c0"
      },
      "outputs": [
        {
          "output_type": "stream",
          "name": "stdout",
          "text": [
            "Mention a string as an example for the problem.PYTHON\n",
            "Mention the index which you want to remove.5\n",
            "PYTHO\n"
          ]
        }
      ],
      "source": [
        "string = input(\"Mention a string as an example for the problem.\")\n",
        "n = int(input(\"Mention the index which you want to remove.\"))   ##### we should print the string withouth the nth index.\n",
        "print(string[0:n] +string[n+1:])"
      ]
    },
    {
      "cell_type": "markdown",
      "source": [
        "# Write a Python program to get a single string from two given strings, separated by a space and swap the first two characters of each string.\n",
        "\n"
      ],
      "metadata": {
        "id": "GD8Ij9rJV3-0"
      }
    },
    {
      "cell_type": "code",
      "source": [
        "a = \"code\"\n",
        "b = \"debug\"\n",
        "new_1 = a[2:] + b[0:2]\n",
        "new_2 = a[0:2] + b[2:]\n",
        "print(new_1 + \" \" + new_2)"
      ],
      "metadata": {
        "colab": {
          "base_uri": "https://localhost:8080/"
        },
        "id": "8eUjoyLKV_bb",
        "outputId": "11258ee6-9ee9-47ba-b45c-21740e75d87f"
      },
      "execution_count": 1,
      "outputs": [
        {
          "output_type": "stream",
          "name": "stdout",
          "text": [
            "dede cobug\n"
          ]
        }
      ]
    },
    {
      "cell_type": "markdown",
      "source": [
        "## Write a Python program to change a given string to a new string where the first and last chars have been exchanged."
      ],
      "metadata": {
        "id": "kCcekjxb2kgr"
      }
    },
    {
      "cell_type": "code",
      "source": [
        "string = input(\"Name a string->\")\n",
        "new_string = string[-1] + string[1:-1] + string[0]\n",
        "print(new_string)"
      ],
      "metadata": {
        "colab": {
          "base_uri": "https://localhost:8080/"
        },
        "id": "d3SRC4kZ29cl",
        "outputId": "205a36a5-4372-4495-93ce-84f7570605ad"
      },
      "execution_count": 2,
      "outputs": [
        {
          "output_type": "stream",
          "name": "stdout",
          "text": [
            "Name a string->python\n",
            "nythop\n"
          ]
        }
      ]
    },
    {
      "cell_type": "markdown",
      "source": [
        "# Write a Python script that takes input from the user and displays that input back in upper and lower cases."
      ],
      "metadata": {
        "id": "0Q7TUorc3jmB"
      }
    },
    {
      "cell_type": "code",
      "source": [
        "string = input(\"Write a string->\")\n",
        "print(string.upper())"
      ],
      "metadata": {
        "colab": {
          "base_uri": "https://localhost:8080/"
        },
        "id": "5babv3453qaA",
        "outputId": "17cb4a7c-e898-432b-815d-3997f6bc6510"
      },
      "execution_count": 3,
      "outputs": [
        {
          "output_type": "stream",
          "name": "stdout",
          "text": [
            "Write a string->programming\n",
            "PROGRAMMING\n"
          ]
        }
      ]
    },
    {
      "cell_type": "markdown",
      "source": [
        "## Write a Python function to get a string made of 4 copies of the last two characters of a specified string (length must be at least 2)."
      ],
      "metadata": {
        "id": "CRLeL_YJ4HkR"
      }
    },
    {
      "cell_type": "code",
      "source": [
        "string = input(\"Write a string->\")\n",
        "new_string = string[-2:] * 4\n",
        "print(new_string)\n"
      ],
      "metadata": {
        "colab": {
          "base_uri": "https://localhost:8080/"
        },
        "id": "CL65gRs44VAI",
        "outputId": "97c4e16b-8949-484b-ca0f-2d033e9ddedf"
      },
      "execution_count": 4,
      "outputs": [
        {
          "output_type": "stream",
          "name": "stdout",
          "text": [
            "Write a string->code\n",
            "dededede\n"
          ]
        }
      ]
    }
  ]
}